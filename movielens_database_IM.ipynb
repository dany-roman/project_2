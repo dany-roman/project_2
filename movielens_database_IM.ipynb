{
 "cells": [
  {
   "cell_type": "code",
   "execution_count": 1,
   "metadata": {},
   "outputs": [],
   "source": [
    "# Import modules/dependencies\n",
    "import pandas as pd\n",
    "import json"
   ]
  },
  {
   "cell_type": "markdown",
   "metadata": {},
   "source": [
    "### Reading in data\n",
    "<p>This dataset consists of the following files:<p>\n",
    "\n",
    "* **movies_metadata.csv**: The main Movies Metadata file. Contains information on 45,000 movies featured in the Full MovieLens dataset. Features include posters, backdrops, budget, revenue, release dates, languages, production countries and companies.\n",
    "\n",
    "* **keywords.csv**: Contains the movie plot keywords for our MovieLens movies. Available in the form of a stringified JSON Object.\n",
    "\n",
    "* **credits.csv**: Consists of Cast and Crew Information for all our movies. Available in the form of a stringified JSON Object.\n",
    "\n",
    "* **links.csv**: The file that contains the TMDB and IMDB IDs of all the movies featured in the Full MovieLens dataset.\n",
    "\n",
    "* **links_small.csv**: Contains the TMDB and IMDB IDs of a small subset of 9,000 movies of the Full Dataset.\n",
    "\n",
    "* **ratings_small.csv**: The subset of 100,000 ratings from 700 users on 9,000 movies."
   ]
  },
  {
   "cell_type": "code",
   "execution_count": 2,
   "metadata": {},
   "outputs": [],
   "source": [
    "credits = pd.read_csv(\"../prj_2_own/data/credits.csv\")\n",
    "keywords = pd.read_csv(\"../prj_2_own/data/keywords.csv\")\n",
    "# links = pd.read_csv(\"../prj_2_own/data/links.csv\") ------------------ not usful info\n",
    "# links_small = pd.read_csv(\"../prj_2_own/data/links_small.csv\") ------ not usful info\n",
    "movies_meta = pd.read_csv(\"../prj_2_own/data/movies_metadata.csv\", low_memory=False)\n",
    "ratings = pd.read_csv(\"../prj_2_own/data/ratings.csv\")\n",
    "ratings_small = pd.read_csv(\"../prj_2_own/data/ratings_small.csv\")"
   ]
  },
  {
   "cell_type": "code",
   "execution_count": null,
   "metadata": {},
   "outputs": [],
   "source": []
  }
 ],
 "metadata": {
  "kernelspec": {
   "display_name": "Python [conda env:root] *",
   "language": "python",
   "name": "conda-root-py"
  },
  "language_info": {
   "codemirror_mode": {
    "name": "ipython",
    "version": 3
   },
   "file_extension": ".py",
   "mimetype": "text/x-python",
   "name": "python",
   "nbconvert_exporter": "python",
   "pygments_lexer": "ipython3",
   "version": "3.8.5"
  }
 },
 "nbformat": 4,
 "nbformat_minor": 4
}
